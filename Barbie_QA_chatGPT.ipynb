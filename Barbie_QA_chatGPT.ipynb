{
  "nbformat": 4,
  "nbformat_minor": 0,
  "metadata": {
    "colab": {
      "provenance": [],
      "authorship_tag": "ABX9TyPSliwREFnHzGTgPOXwWsEr",
      "include_colab_link": true
    },
    "kernelspec": {
      "name": "python3",
      "display_name": "Python 3"
    },
    "language_info": {
      "name": "python"
    }
  },
  "cells": [
    {
      "cell_type": "markdown",
      "metadata": {
        "id": "view-in-github",
        "colab_type": "text"
      },
      "source": [
        "<a href=\"https://colab.research.google.com/github/sadat1971/Llama2_custom_finetuning/blob/main/Barbie_QA_chatGPT.ipynb\" target=\"_parent\"><img src=\"https://colab.research.google.com/assets/colab-badge.svg\" alt=\"Open In Colab\"/></a>"
      ]
    },
    {
      "cell_type": "code",
      "execution_count": null,
      "metadata": {
        "id": "7RCviY1IM0be"
      },
      "outputs": [],
      "source": [
        "import warnings\n",
        "warnings.filterwarnings('ignore')"
      ]
    },
    {
      "cell_type": "code",
      "source": [
        "!pip install langchain_openai"
      ],
      "metadata": {
        "colab": {
          "base_uri": "https://localhost:8080/"
        },
        "id": "ZKtJow75NFyz",
        "outputId": "51353294-3447-41d4-c5ee-83e7078d8a88"
      },
      "execution_count": null,
      "outputs": [
        {
          "output_type": "stream",
          "name": "stdout",
          "text": [
            "Requirement already satisfied: langchain_openai in /usr/local/lib/python3.10/dist-packages (0.0.5)\n",
            "Requirement already satisfied: langchain-core<0.2,>=0.1.16 in /usr/local/lib/python3.10/dist-packages (from langchain_openai) (0.1.21)\n",
            "Requirement already satisfied: numpy<2,>=1 in /usr/local/lib/python3.10/dist-packages (from langchain_openai) (1.23.5)\n",
            "Requirement already satisfied: openai<2.0.0,>=1.10.0 in /usr/local/lib/python3.10/dist-packages (from langchain_openai) (1.11.1)\n",
            "Requirement already satisfied: tiktoken<0.6.0,>=0.5.2 in /usr/local/lib/python3.10/dist-packages (from langchain_openai) (0.5.2)\n",
            "Requirement already satisfied: PyYAML>=5.3 in /usr/local/lib/python3.10/dist-packages (from langchain-core<0.2,>=0.1.16->langchain_openai) (6.0.1)\n",
            "Requirement already satisfied: anyio<5,>=3 in /usr/local/lib/python3.10/dist-packages (from langchain-core<0.2,>=0.1.16->langchain_openai) (3.7.1)\n",
            "Requirement already satisfied: jsonpatch<2.0,>=1.33 in /usr/local/lib/python3.10/dist-packages (from langchain-core<0.2,>=0.1.16->langchain_openai) (1.33)\n",
            "Requirement already satisfied: langsmith<0.0.88,>=0.0.87 in /usr/local/lib/python3.10/dist-packages (from langchain-core<0.2,>=0.1.16->langchain_openai) (0.0.87)\n",
            "Requirement already satisfied: packaging<24.0,>=23.2 in /usr/local/lib/python3.10/dist-packages (from langchain-core<0.2,>=0.1.16->langchain_openai) (23.2)\n",
            "Requirement already satisfied: pydantic<3,>=1 in /usr/local/lib/python3.10/dist-packages (from langchain-core<0.2,>=0.1.16->langchain_openai) (2.6.1)\n",
            "Requirement already satisfied: requests<3,>=2 in /usr/local/lib/python3.10/dist-packages (from langchain-core<0.2,>=0.1.16->langchain_openai) (2.31.0)\n",
            "Requirement already satisfied: tenacity<9.0.0,>=8.1.0 in /usr/local/lib/python3.10/dist-packages (from langchain-core<0.2,>=0.1.16->langchain_openai) (8.2.3)\n",
            "Requirement already satisfied: distro<2,>=1.7.0 in /usr/lib/python3/dist-packages (from openai<2.0.0,>=1.10.0->langchain_openai) (1.7.0)\n",
            "Requirement already satisfied: httpx<1,>=0.23.0 in /usr/local/lib/python3.10/dist-packages (from openai<2.0.0,>=1.10.0->langchain_openai) (0.26.0)\n",
            "Requirement already satisfied: sniffio in /usr/local/lib/python3.10/dist-packages (from openai<2.0.0,>=1.10.0->langchain_openai) (1.3.0)\n",
            "Requirement already satisfied: tqdm>4 in /usr/local/lib/python3.10/dist-packages (from openai<2.0.0,>=1.10.0->langchain_openai) (4.66.1)\n",
            "Requirement already satisfied: typing-extensions<5,>=4.7 in /usr/local/lib/python3.10/dist-packages (from openai<2.0.0,>=1.10.0->langchain_openai) (4.9.0)\n",
            "Requirement already satisfied: regex>=2022.1.18 in /usr/local/lib/python3.10/dist-packages (from tiktoken<0.6.0,>=0.5.2->langchain_openai) (2023.12.25)\n",
            "Requirement already satisfied: idna>=2.8 in /usr/local/lib/python3.10/dist-packages (from anyio<5,>=3->langchain-core<0.2,>=0.1.16->langchain_openai) (3.6)\n",
            "Requirement already satisfied: exceptiongroup in /usr/local/lib/python3.10/dist-packages (from anyio<5,>=3->langchain-core<0.2,>=0.1.16->langchain_openai) (1.2.0)\n",
            "Requirement already satisfied: certifi in /usr/local/lib/python3.10/dist-packages (from httpx<1,>=0.23.0->openai<2.0.0,>=1.10.0->langchain_openai) (2024.2.2)\n",
            "Requirement already satisfied: httpcore==1.* in /usr/local/lib/python3.10/dist-packages (from httpx<1,>=0.23.0->openai<2.0.0,>=1.10.0->langchain_openai) (1.0.2)\n",
            "Requirement already satisfied: h11<0.15,>=0.13 in /usr/local/lib/python3.10/dist-packages (from httpcore==1.*->httpx<1,>=0.23.0->openai<2.0.0,>=1.10.0->langchain_openai) (0.14.0)\n",
            "Requirement already satisfied: jsonpointer>=1.9 in /usr/local/lib/python3.10/dist-packages (from jsonpatch<2.0,>=1.33->langchain-core<0.2,>=0.1.16->langchain_openai) (2.4)\n",
            "Requirement already satisfied: annotated-types>=0.4.0 in /usr/local/lib/python3.10/dist-packages (from pydantic<3,>=1->langchain-core<0.2,>=0.1.16->langchain_openai) (0.6.0)\n",
            "Requirement already satisfied: pydantic-core==2.16.2 in /usr/local/lib/python3.10/dist-packages (from pydantic<3,>=1->langchain-core<0.2,>=0.1.16->langchain_openai) (2.16.2)\n",
            "Requirement already satisfied: charset-normalizer<4,>=2 in /usr/local/lib/python3.10/dist-packages (from requests<3,>=2->langchain-core<0.2,>=0.1.16->langchain_openai) (3.3.2)\n",
            "Requirement already satisfied: urllib3<3,>=1.21.1 in /usr/local/lib/python3.10/dist-packages (from requests<3,>=2->langchain-core<0.2,>=0.1.16->langchain_openai) (2.0.7)\n"
          ]
        }
      ]
    },
    {
      "cell_type": "code",
      "source": [
        "!pip install langchain"
      ],
      "metadata": {
        "colab": {
          "base_uri": "https://localhost:8080/"
        },
        "id": "2ILovUywNUSL",
        "outputId": "a8db272f-5a42-4a58-ff2d-71a4437da9b7"
      },
      "execution_count": null,
      "outputs": [
        {
          "output_type": "stream",
          "name": "stdout",
          "text": [
            "Requirement already satisfied: langchain in /usr/local/lib/python3.10/dist-packages (0.1.5)\n",
            "Requirement already satisfied: PyYAML>=5.3 in /usr/local/lib/python3.10/dist-packages (from langchain) (6.0.1)\n",
            "Requirement already satisfied: SQLAlchemy<3,>=1.4 in /usr/local/lib/python3.10/dist-packages (from langchain) (2.0.25)\n",
            "Requirement already satisfied: aiohttp<4.0.0,>=3.8.3 in /usr/local/lib/python3.10/dist-packages (from langchain) (3.9.3)\n",
            "Requirement already satisfied: async-timeout<5.0.0,>=4.0.0 in /usr/local/lib/python3.10/dist-packages (from langchain) (4.0.3)\n",
            "Requirement already satisfied: dataclasses-json<0.7,>=0.5.7 in /usr/local/lib/python3.10/dist-packages (from langchain) (0.6.4)\n",
            "Requirement already satisfied: jsonpatch<2.0,>=1.33 in /usr/local/lib/python3.10/dist-packages (from langchain) (1.33)\n",
            "Requirement already satisfied: langchain-community<0.1,>=0.0.17 in /usr/local/lib/python3.10/dist-packages (from langchain) (0.0.19)\n",
            "Requirement already satisfied: langchain-core<0.2,>=0.1.16 in /usr/local/lib/python3.10/dist-packages (from langchain) (0.1.21)\n",
            "Requirement already satisfied: langsmith<0.1,>=0.0.83 in /usr/local/lib/python3.10/dist-packages (from langchain) (0.0.87)\n",
            "Requirement already satisfied: numpy<2,>=1 in /usr/local/lib/python3.10/dist-packages (from langchain) (1.23.5)\n",
            "Requirement already satisfied: pydantic<3,>=1 in /usr/local/lib/python3.10/dist-packages (from langchain) (2.6.1)\n",
            "Requirement already satisfied: requests<3,>=2 in /usr/local/lib/python3.10/dist-packages (from langchain) (2.31.0)\n",
            "Requirement already satisfied: tenacity<9.0.0,>=8.1.0 in /usr/local/lib/python3.10/dist-packages (from langchain) (8.2.3)\n",
            "Requirement already satisfied: aiosignal>=1.1.2 in /usr/local/lib/python3.10/dist-packages (from aiohttp<4.0.0,>=3.8.3->langchain) (1.3.1)\n",
            "Requirement already satisfied: attrs>=17.3.0 in /usr/local/lib/python3.10/dist-packages (from aiohttp<4.0.0,>=3.8.3->langchain) (23.2.0)\n",
            "Requirement already satisfied: frozenlist>=1.1.1 in /usr/local/lib/python3.10/dist-packages (from aiohttp<4.0.0,>=3.8.3->langchain) (1.4.1)\n",
            "Requirement already satisfied: multidict<7.0,>=4.5 in /usr/local/lib/python3.10/dist-packages (from aiohttp<4.0.0,>=3.8.3->langchain) (6.0.5)\n",
            "Requirement already satisfied: yarl<2.0,>=1.0 in /usr/local/lib/python3.10/dist-packages (from aiohttp<4.0.0,>=3.8.3->langchain) (1.9.4)\n",
            "Requirement already satisfied: marshmallow<4.0.0,>=3.18.0 in /usr/local/lib/python3.10/dist-packages (from dataclasses-json<0.7,>=0.5.7->langchain) (3.20.2)\n",
            "Requirement already satisfied: typing-inspect<1,>=0.4.0 in /usr/local/lib/python3.10/dist-packages (from dataclasses-json<0.7,>=0.5.7->langchain) (0.9.0)\n",
            "Requirement already satisfied: jsonpointer>=1.9 in /usr/local/lib/python3.10/dist-packages (from jsonpatch<2.0,>=1.33->langchain) (2.4)\n",
            "Requirement already satisfied: anyio<5,>=3 in /usr/local/lib/python3.10/dist-packages (from langchain-core<0.2,>=0.1.16->langchain) (3.7.1)\n",
            "Requirement already satisfied: packaging<24.0,>=23.2 in /usr/local/lib/python3.10/dist-packages (from langchain-core<0.2,>=0.1.16->langchain) (23.2)\n",
            "Requirement already satisfied: annotated-types>=0.4.0 in /usr/local/lib/python3.10/dist-packages (from pydantic<3,>=1->langchain) (0.6.0)\n",
            "Requirement already satisfied: pydantic-core==2.16.2 in /usr/local/lib/python3.10/dist-packages (from pydantic<3,>=1->langchain) (2.16.2)\n",
            "Requirement already satisfied: typing-extensions>=4.6.1 in /usr/local/lib/python3.10/dist-packages (from pydantic<3,>=1->langchain) (4.9.0)\n",
            "Requirement already satisfied: charset-normalizer<4,>=2 in /usr/local/lib/python3.10/dist-packages (from requests<3,>=2->langchain) (3.3.2)\n",
            "Requirement already satisfied: idna<4,>=2.5 in /usr/local/lib/python3.10/dist-packages (from requests<3,>=2->langchain) (3.6)\n",
            "Requirement already satisfied: urllib3<3,>=1.21.1 in /usr/local/lib/python3.10/dist-packages (from requests<3,>=2->langchain) (2.0.7)\n",
            "Requirement already satisfied: certifi>=2017.4.17 in /usr/local/lib/python3.10/dist-packages (from requests<3,>=2->langchain) (2024.2.2)\n",
            "Requirement already satisfied: greenlet!=0.4.17 in /usr/local/lib/python3.10/dist-packages (from SQLAlchemy<3,>=1.4->langchain) (3.0.3)\n",
            "Requirement already satisfied: sniffio>=1.1 in /usr/local/lib/python3.10/dist-packages (from anyio<5,>=3->langchain-core<0.2,>=0.1.16->langchain) (1.3.0)\n",
            "Requirement already satisfied: exceptiongroup in /usr/local/lib/python3.10/dist-packages (from anyio<5,>=3->langchain-core<0.2,>=0.1.16->langchain) (1.2.0)\n",
            "Requirement already satisfied: mypy-extensions>=0.3.0 in /usr/local/lib/python3.10/dist-packages (from typing-inspect<1,>=0.4.0->dataclasses-json<0.7,>=0.5.7->langchain) (1.0.0)\n"
          ]
        }
      ]
    },
    {
      "cell_type": "code",
      "source": [
        "import pandas as pd\n",
        "import time\n",
        "from tqdm import tqdm\n",
        "import langchain\n",
        "from langchain_openai import OpenAI\n",
        "import re\n",
        "from typing import List, Tuple\n"
      ],
      "metadata": {
        "id": "gQ_yg4d8NAU8"
      },
      "execution_count": null,
      "outputs": []
    },
    {
      "cell_type": "code",
      "source": [
        "import os\n",
        "os.environ[\"OPENAI_API_KEY\"] = '******************************'"
      ],
      "metadata": {
        "id": "N07_QhywNDp7"
      },
      "execution_count": null,
      "outputs": []
    },
    {
      "cell_type": "code",
      "source": [
        "llm = OpenAI(model=\"gpt-3.5-turbo-instruct\")"
      ],
      "metadata": {
        "id": "4UDKdkGpNgNy"
      },
      "execution_count": null,
      "outputs": []
    },
    {
      "cell_type": "markdown",
      "source": [
        "We will have three parts of QA:\n",
        "\n",
        "1. First part focused on **Intro**: around 300 QA\n",
        "2. Second part focused on **Plot**: around 600 QA\n",
        "\n",
        "*   100 on first 2 paragraph\n",
        "*   300 on middle 3 paargaphs\n",
        "*   100 on last 3 paragraphs\n",
        "\n",
        "3. Third part focused on the **Cast**: around 100 QA\n",
        "\n"
      ],
      "metadata": {
        "id": "BLNhNHNLOmG1"
      }
    },
    {
      "cell_type": "code",
      "source": [
        "intro_description = f\"\"\"Barbie is a 2023 fantasy comedy film directed by Greta Gerwig from a screenplay she wrote with Noah Baumbach. Based on the eponymous fashion dolls by Mattel, it is the first live-action Barbie film after numerous computer-animated films and specials. The film stars Margot Robbie as the title character and Ryan Gosling as Ken, and follows the pair on a journey of self-discovery through both Barbieland and the real world following an existential crisis. The supporting cast includes America Ferrera, Michael Cera, Kate McKinnon, Issa Rae, Rhea Perlman, and Will Ferrell.\n",
        "\n",
        "A live-action Barbie film was announced in September 2009 by Universal Pictures with Laurence Mark producing. Development began in April 2014, when Sony Pictures acquired the film rights. Following multiple writer and director changes and the casting of Amy Schumer and later Anne Hathaway as Barbie, the rights were transferred to Warner Bros. Pictures in October 2018. Robbie was cast in 2019, after Gal Gadot turned down the role due to scheduling conflicts, and Gerwig was announced as director and co-writer with Baumbach in 2020. The rest of the cast was announced in early 2022, with principal photography occurring primarily at Warner Bros. Studios, Leavesden, in England and at the Venice Beach Skatepark in Los Angeles from March to July 2022.\n",
        "\n",
        "Barbie premiered at the Shrine Auditorium in Los Angeles on July 9, 2023, and was released in the United States on July 21. Its simultaneous release with Universal's Oppenheimer led to the Barbenheimer cultural phenomenon, which encouraged audiences to see both films as a double feature. The film has grossed $1.44 billion and achieved several milestones, including becoming the highest-grossing film of 2023 and the 14th highest-grossing film of all time. Named one of the top 10 films of 2023 by the National Board of Review and the American Film Institute, it received critical acclaim and other accolades, including eight Academy Award nominations (including Best Picture) and won two Golden Globe Awards.\n",
        "\"\"\"\n",
        "\n",
        "plot_description = f\"\"\"Stereotypical Barbie (\"Barbie\") and fellow dolls reside in Barbieland, a matriarchal society populated by different versions of Barbies, Kens, and a group of discontinued models who are treated like outcasts due to their unconventional traits. While the Kens spend their days playing at the beach, considering it their profession, the Barbies hold prestigious jobs in science, politics, media, and so on. Beach Ken (\"Ken\") is only happy when he is with Barbie, and seeks a closer relationship, but she rebuffs him in favor of other activities and female friendships.\n",
        "\n",
        "One evening at a dance party, Barbie is suddenly stricken with worries about mortality. Overnight, she develops bad breath, cellulite, and flat feet, disrupting her usual routines and the classic perfection of the Barbies the next day. She seeks out Weird Barbie, a disfigured doll, who tells her she must find the child playing with her in the real world to cure her afflictions. Ken stows away in her convertible to join her, to which Barbie reluctantly agrees.\n",
        "\n",
        "Arriving at Venice Beach, Barbie punches a man for groping her, leading to her and Ken's brief arrest. Alarmed by their presence, Mattel's CEO orders their recapture. Barbie tracks down her owner, a teenage girl named Sasha, who criticizes her for encouraging unrealistic beauty standards. Distraught, Barbie discovers that Gloria, a Mattel employee and Sasha's mother, inadvertently caused her existential crisis after Gloria began playing with Sasha's old Barbie toys. Mattel attempts to put Barbie in a toy box for remanufacturing, but she escapes with Gloria and Sasha's help, and the three travel to Barbieland with Mattel executives in pursuit.\n",
        "\n",
        "Meanwhile, Ken learns about patriarchy and feels respected for the first time. Returning to Barbieland before Barbie does, he persuades the other Kens to take over, and the Barbies are indoctrinated into submissive roles, such as agreeable girlfriends, housewives, and maids. Barbie arrives and fails to convince everyone to return to the way things were. She becomes depressed, but Gloria gives her a speech about society's conflicting expectations of women, restoring Barbie's self-confidence.\n",
        "\n",
        "With the assistance of Sasha, Weird Barbie, Allan, and the discontinued dolls, Gloria's speech deprograms the Barbies from their indoctrination. They then manipulate the Kens into fighting among themselves, distracting them from enshrining male superiority into Barbieland's constitution, and the Barbies regain power. Having now experienced systemic oppression for themselves, the Barbies resolve to rectify the faults of their previous society, emphasizing better treatment of the Kens and all outcasts.\n",
        "\n",
        "Barbie and Ken apologize to each other, acknowledging their mistakes. Ken bemoans his lack of purpose without Barbie, so she encourages him to find an autonomous identity. Barbie, who remains unsure of her own identity, meets with the spirit of Ruth Handler, Mattel co-founder and creator of the Barbie doll, who explains that Barbie's story has no set ending and her ever-evolving history surpasses her roots.\n",
        "\n",
        "Barbie decides to become human and return to the real world and is bidden goodbye by the Barbies, Kens, and Mattel executives. Sometime later, Gloria, her husband, and Sasha take Barbie, now going by the name \"Barbara Handler\", to her first gynecologist appointment.\n",
        "\"\"\"\n",
        "\n",
        "cast_description = f\"\"\"Margot Robbie at the 2016 San Diego Comic Con International in San Diego, California.\n",
        "Ryan Gosling at the 2017 San Diego Comic Con International in San Diego, California.\n",
        "Margot Robbie and Ryan Gosling portray Barbie and Ken.\n",
        "Margot Robbie as Barbie, often referred to as \"Stereotypical Barbie\"[10][11]\n",
        "Main variations of Barbie played by:\n",
        "Issa Rae as President Barbie[12][13]\n",
        "Kate McKinnon as Weird Barbie[14][13]\n",
        "Alexandra Shipp as Writer Barbie[15][13]\n",
        "Emma Mackey as Physicist Barbie[16][13]\n",
        "Hari Nef as Dr. Barbie[13]\n",
        "Sharon Rooney as Lawyer Barbie[12]\n",
        "Ana Cruz Kayne as Judge Barbie[12][13]\n",
        "Ritu Arya as Journalist Barbie[12][13]\n",
        "Dua Lipa as Mermaid Barbie[17][13]\n",
        "Nicola Coughlan as Diplomat Barbie[12][13]\n",
        "Ryan Gosling as Ken, often referred to as \"Beach Ken\"[18]\n",
        "Main variations of Ken played by:\n",
        "Simu Liu as Tourist Ken/\"Rival Ken\"[19][20][13]\n",
        "Kingsley Ben-Adir as Basketball Ken[12]\n",
        "Ncuti Gatwa as Artist Ken[19][12]\n",
        "Scott Evans as Stereotypical Ken[12]\n",
        "John Cena as Kenmaid, a merman Ken[21][22]\n",
        "America Ferrera as Gloria, a Mattel employee who helps Barbie in the real world[23]\n",
        "Ariana Greenblatt as Sasha, Gloria's daughter[24][25]\n",
        "Rhea Perlman as Ruth Handler, a co-founder of Mattel[5]\n",
        "Helen Mirren as the narrator[26]\n",
        "Will Ferrell as the CEO of Mattel[27]\n",
        "Michael Cera as Allan[28]\n",
        "Connor Swindells as Aaron Dinkins, a low-level Mattel employee\n",
        "Jamie Demetriou as the CFO of Mattel\n",
        "Emerald Fennell as Midge[29]\n",
        "Asim Chaudhry as a Mattel warehouse employee\n",
        "Ray Fearon as Dan at the FBI\n",
        "Erica Ford as Skipper[30]\n",
        "Hannah Khalique-Brown as \"Growing Up\" Skipper[31]\n",
        "Mette Narrative as Barbie Video Girl\n",
        "Marisa Abela as Teen Talk Barbie[32]\n",
        "Lucy Boynton as Proust Barbie\n",
        "Rob Brydon as Sugar Daddy Ken[12]\n",
        "Tom Stourton as Earring Magic Ken[33]\n",
        "Ann Roth as the woman on the bench[34]\n",
        "Annie Mumolo as Anxiety Mom[35]\n",
        "Lauren Holt as Time Mom[36][35]\n",
        "Ryan Piers Williams as Gloria's husband\"\"\""
      ],
      "metadata": {
        "id": "naCD1kS_TJTx"
      },
      "execution_count": null,
      "outputs": []
    },
    {
      "cell_type": "markdown",
      "source": [
        "Simply copied from https://en.wikipedia.org/wiki/Barbie_(film)"
      ],
      "metadata": {
        "id": "TAqEQc6dPjtl"
      }
    },
    {
      "cell_type": "markdown",
      "source": [
        "Now, Let's design our prompt"
      ],
      "metadata": {
        "id": "aFAzlY8xPqHR"
      }
    },
    {
      "cell_type": "code",
      "source": [
        "focus = None #can be introductory, plot (start/middle/end) or cast\n",
        "describe = None #can be intro_description, plot description or cast_description"
      ],
      "metadata": {
        "id": "ctCTZEMKP0Nq"
      },
      "execution_count": null,
      "outputs": []
    },
    {
      "cell_type": "code",
      "source": [
        "prompt = f\"\"\"### Instruction: Based on the {focus} information of the movie \"Barbie\" below, generate 5 instruction-detailed response pairs about the movie\n",
        "Barbie. Make sure the Instruction-Response are in the json format:\\n\\n\n",
        "### Example: {{\"Instruction\": \"Tell me what is Barbie movie about\", \"Response\": \"It is about...\"}}\\n\\n\n",
        "### Movie Description:{describe}\\n\\n\n",
        "### Response:\"\"\""
      ],
      "metadata": {
        "id": "QpTopPS0Phsb"
      },
      "execution_count": null,
      "outputs": []
    },
    {
      "cell_type": "code",
      "source": [
        "print(prompt)"
      ],
      "metadata": {
        "colab": {
          "base_uri": "https://localhost:8080/"
        },
        "id": "wE_Go7ifT6cu",
        "outputId": "028210cf-2e71-4a8a-ace2-d379633912e2"
      },
      "execution_count": null,
      "outputs": [
        {
          "output_type": "stream",
          "name": "stdout",
          "text": [
            "### Instruction: Based on the None information of the movie \"Barbie\" below, generate 5 instruction-detailed response pairs about the movie\n",
            "Barbie. Make sure the Instruction-Response are in the json format:\n",
            "\n",
            "\n",
            "### Example: {\"Instruction\": \"Tell me what is Barbie movie about\", \"Response\": \"It is about...\"}\n",
            "\n",
            "\n",
            "### Movie Description:None\n",
            "\n",
            "\n",
            "### Response:\n"
          ]
        }
      ]
    },
    {
      "cell_type": "markdown",
      "source": [
        "We also want a way to extract the responses from the string"
      ],
      "metadata": {
        "id": "akjpFj35QWKy"
      }
    },
    {
      "cell_type": "code",
      "source": [
        "def extract_instruction_response_pairs(string: str)-> Tuple[List[str], List[str]]:\n",
        "    \"\"\"\n",
        "    Extracts pairs of instructions and responses from a JSON-formatted string.\n",
        "\n",
        "    Parameters:\n",
        "        - json_string (str): A string containing JSON-formatted instruction and response pairs.\n",
        "\n",
        "    Returns:\n",
        "        - instructions (list): A list of extracted instructions.\n",
        "        - responses (list): A list of extracted responses corresponding to the instructions.\n",
        "    \"\"\"\n",
        "\n",
        "    pattern = r'{\"Instruction\": \"(.*?)\", \"Response\": \"(.*?)\"}'\n",
        "\n",
        "    # Use re.findall to extract matches\n",
        "    matches = re.findall(pattern, string)\n",
        "\n",
        "    # Extract lists of \"Instruction\" and \"Response\"\n",
        "    instructions = [match[0] for match in matches]\n",
        "    responses = [match[1] for match in matches]\n",
        "\n",
        "    return instructions, responses"
      ],
      "metadata": {
        "id": "vYd5UcmQQVKb"
      },
      "execution_count": null,
      "outputs": []
    },
    {
      "cell_type": "code",
      "source": [
        "All_instructions = []\n",
        "All_reponses = []"
      ],
      "metadata": {
        "id": "_yby7o_8NlEo"
      },
      "execution_count": null,
      "outputs": []
    },
    {
      "cell_type": "code",
      "source": [
        "## Generating based on the intro section\n",
        "start = time.time()\n",
        "for idx in tqdm(range(60)):\n",
        "  focus = \"introductory\"\n",
        "  describe = intro_description\n",
        "  prompt = f\"\"\"### Instruction: Based on the {focus} information of the movie \"Barbie\" below, generate 5 instruction-detailed response pairs.\n",
        "  Make sure the Instruction-Response are in the json format:\\n\\n\n",
        "  ### Example: {{\"Instruction\": \"the instruction\", \"Response\": \"the response\"}}\\n\\n\n",
        "  ### Description:{describe}\\n\\n\n",
        "  ### Response:\"\"\"\n",
        "  generated_text = llm(prompt)\n",
        "  ins, res = extract_instruction_response_pairs(generated_text)\n",
        "  All_instructions.extend(ins)\n",
        "  All_reponses.extend(res)\n",
        "\n",
        "print(\"\\n\\n===Time: {} seconds===\".format(time.time()-start))"
      ],
      "metadata": {
        "colab": {
          "base_uri": "https://localhost:8080/"
        },
        "id": "gA1nWh61Qpq1",
        "outputId": "8161fe7f-cc27-4749-d7b0-69c0ce829d3b"
      },
      "execution_count": null,
      "outputs": [
        {
          "output_type": "stream",
          "name": "stderr",
          "text": [
            "\r  0%|          | 0/60 [00:00<?, ?it/s]/usr/local/lib/python3.10/dist-packages/langchain_core/_api/deprecation.py:117: LangChainDeprecationWarning: The function `__call__` was deprecated in LangChain 0.1.7 and will be removed in 0.2.0. Use invoke instead.\n",
            "  warn_deprecated(\n",
            "100%|██████████| 60/60 [02:20<00:00,  2.34s/it]"
          ]
        },
        {
          "output_type": "stream",
          "name": "stdout",
          "text": [
            "\n",
            "\n",
            "===Time: 140.6080949306488 seconds===\n"
          ]
        },
        {
          "output_type": "stream",
          "name": "stderr",
          "text": [
            "\n"
          ]
        }
      ]
    },
    {
      "cell_type": "code",
      "source": [
        "len(All_instructions)"
      ],
      "metadata": {
        "colab": {
          "base_uri": "https://localhost:8080/"
        },
        "id": "uwtnhr9mZz6y",
        "outputId": "f1748c52-9354-452d-8714-e6f20d538ace"
      },
      "execution_count": null,
      "outputs": [
        {
          "output_type": "execute_result",
          "data": {
            "text/plain": [
              "298"
            ]
          },
          "metadata": {},
          "execution_count": 14
        }
      ]
    },
    {
      "cell_type": "markdown",
      "source": [
        "Yes, it's not always perfect :)"
      ],
      "metadata": {
        "id": "FLcsm4lDbK3P"
      }
    },
    {
      "cell_type": "code",
      "source": [
        "## Generating based on the beginning plot section\n",
        "for idx in tqdm(range(20)):\n",
        "  focus = \"first 2 paragraph of plot\"\n",
        "  describe = plot_description\n",
        "  prompt = f\"\"\"### Instruction: Based on the {focus} information of the movie \"Barbie\" below, generate 5 instruction-detailed response pairs.\n",
        "  Make sure the Instruction-Response are in the json format:\\n\\n\n",
        "  ### Example: {{\"Instruction\": \"the instruction\", \"Response\": \"the response\"}}\\n\\n\n",
        "  ### Description:{describe}\\n\\n\n",
        "  ### Response:\"\"\"\n",
        "  generated_text = llm(prompt)\n",
        "  ins, res = extract_instruction_response_pairs(generated_text)\n",
        "  All_instructions.extend(ins)\n",
        "  All_reponses.extend(res)"
      ],
      "metadata": {
        "colab": {
          "base_uri": "https://localhost:8080/"
        },
        "id": "8TXdcdJmU5Nx",
        "outputId": "1073a9e7-0400-40c9-8f71-af5431480ef6"
      },
      "execution_count": null,
      "outputs": [
        {
          "output_type": "stream",
          "name": "stderr",
          "text": [
            "100%|██████████| 20/20 [00:47<00:00,  2.40s/it]\n"
          ]
        }
      ]
    },
    {
      "cell_type": "code",
      "source": [
        "## Generating based on the middle plot section\n",
        "for idx in tqdm(range(60)):\n",
        "  focus = \"middle 3 paragraph of plot\"\n",
        "  describe = plot_description\n",
        "  prompt = f\"\"\"### Instruction: Based on the {focus} information of the movie \"Barbie\" below, generate 5 instruction-detailed response pairs.\n",
        "  Make sure the Instruction-Response are in the json format:\\n\\n\n",
        "  ### Example: {{\"Instruction\": \"the instruction\", \"Response\": \"the response\"}}\\n\\n\n",
        "  ### Description:{describe}\\n\\n\n",
        "  ### Response:\"\"\"\n",
        "  generated_text = llm(prompt)\n",
        "  ins, res = extract_instruction_response_pairs(generated_text)\n",
        "  All_instructions.extend(ins)\n",
        "  All_reponses.extend(res)"
      ],
      "metadata": {
        "colab": {
          "base_uri": "https://localhost:8080/"
        },
        "id": "n6LQLm8bX-RH",
        "outputId": "c51646c4-2544-49d0-aa41-593e4a07f24d"
      },
      "execution_count": null,
      "outputs": [
        {
          "output_type": "stream",
          "name": "stderr",
          "text": [
            "100%|██████████| 60/60 [02:30<00:00,  2.51s/it]\n"
          ]
        }
      ]
    },
    {
      "cell_type": "code",
      "source": [],
      "metadata": {
        "id": "eFpC_17zoUTs"
      },
      "execution_count": 4,
      "outputs": []
    },
    {
      "cell_type": "code",
      "source": [
        "## Generating based on the last plot section\n",
        "for idx in tqdm(range(40)):\n",
        "  focus = \"last 2 paragraph of plot\"\n",
        "  describe = plot_description\n",
        "  prompt = f\"\"\"### Instruction: Based on the {focus} information of the movie \"Barbie\" below, generate 5 instruction-detailed response pairs.\n",
        "  Make sure the Instruction-Response are in the json format:\\n\\n\n",
        "  ### Example: {{\"Instruction\": \"the instruction\", \"Response\": \"the response\"}}\\n\\n\n",
        "  ### Description:{describe}\\n\\n\n",
        "  ### Response:\"\"\"\n",
        "  generated_text = llm(prompt)\n",
        "  ins, res = extract_instruction_response_pairs(generated_text)\n",
        "  All_instructions.extend(ins)\n",
        "  All_reponses.extend(res)"
      ],
      "metadata": {
        "colab": {
          "base_uri": "https://localhost:8080/"
        },
        "id": "JgjjhlgMX-T4",
        "outputId": "f69c804b-6f2b-477a-d1ff-1cea878f8919"
      },
      "execution_count": null,
      "outputs": [
        {
          "output_type": "stream",
          "name": "stderr",
          "text": [
            "100%|██████████| 40/40 [01:38<00:00,  2.46s/it]\n"
          ]
        }
      ]
    },
    {
      "cell_type": "code",
      "source": [
        "## Generating based on the cast section\n",
        "for idx in tqdm(range(20)):\n",
        "  focus = \"cast\"\n",
        "  describe = cast_description\n",
        "  prompt = f\"\"\"### Instruction: Based on the {focus} information of the movie \"Barbie\" below, generate 5 instruction-detailed response pairs.\n",
        "  Make sure the Instruction-Response are in the json format:\\n\\n\n",
        "  ### Example: {{\"Instruction\": \"the instruction\", \"Response\": \"the response\"}}\\n\\n\n",
        "  ### Description:{describe}\\n\\n\n",
        "  ### Response:\"\"\"\n",
        "  generated_text = llm(prompt)\n",
        "  ins, res = extract_instruction_response_pairs(generated_text)\n",
        "  All_instructions.extend(ins)\n",
        "  All_reponses.extend(res)"
      ],
      "metadata": {
        "colab": {
          "base_uri": "https://localhost:8080/"
        },
        "id": "Pon85VmkYJBo",
        "outputId": "c4960d28-a740-464a-ef44-8a9b6e37887b"
      },
      "execution_count": null,
      "outputs": [
        {
          "output_type": "stream",
          "name": "stderr",
          "text": [
            "100%|██████████| 20/20 [00:45<00:00,  2.26s/it]\n"
          ]
        }
      ]
    },
    {
      "cell_type": "code",
      "source": [
        "len(All_reponses)"
      ],
      "metadata": {
        "colab": {
          "base_uri": "https://localhost:8080/"
        },
        "id": "RSxMn_BhRmYG",
        "outputId": "6b1a475d-96b1-413c-d1a4-d6087a5508d6"
      },
      "execution_count": null,
      "outputs": [
        {
          "output_type": "execute_result",
          "data": {
            "text/plain": [
              "954"
            ]
          },
          "metadata": {},
          "execution_count": 19
        }
      ]
    },
    {
      "cell_type": "code",
      "source": [
        "df = pd.DataFrame()\n",
        "df[\"Intructions\"] = All_instructions\n",
        "df[\"Responses\"] = All_reponses"
      ],
      "metadata": {
        "id": "lRhRDp8JWgFJ"
      },
      "execution_count": null,
      "outputs": []
    },
    {
      "cell_type": "code",
      "source": [
        "df.to_csv(\"Barbie_ChatGPT_genAI.csv\", index=False)"
      ],
      "metadata": {
        "id": "FS0ZyhGWWriI"
      },
      "execution_count": null,
      "outputs": []
    },
    {
      "cell_type": "code",
      "source": [
        "df.head()"
      ],
      "metadata": {
        "colab": {
          "base_uri": "https://localhost:8080/",
          "height": 206
        },
        "id": "4sCtloBiVZun",
        "outputId": "3242d613-3e72-44ac-88df-5bedde6bb5b1"
      },
      "execution_count": null,
      "outputs": [
        {
          "output_type": "execute_result",
          "data": {
            "text/plain": [
              "                                         Intructions  \\\n",
              "0                     Who directed the movie Barbie?   \n",
              "1     Who wrote the screenplay for the movie Barbie?   \n",
              "2  Who stars as the title character in the movie ...   \n",
              "3       Where was the movie Barbie primarily filmed?   \n",
              "4  When was the movie Barbie released in the Unit...   \n",
              "\n",
              "                                           Responses  \n",
              "0     The movie Barbie was directed by Greta Gerwig.  \n",
              "1  Greta Gerwig and Noah Baumbach wrote the scree...  \n",
              "2  Margot Robbie stars as the title character in ...  \n",
              "3  The movie Barbie was primarily filmed at Warne...  \n",
              "4  The movie Barbie was released in the United St...  "
            ],
            "text/html": [
              "\n",
              "  <div id=\"df-5c56db46-fbf7-42a7-badf-4731aad14fd9\" class=\"colab-df-container\">\n",
              "    <div>\n",
              "<style scoped>\n",
              "    .dataframe tbody tr th:only-of-type {\n",
              "        vertical-align: middle;\n",
              "    }\n",
              "\n",
              "    .dataframe tbody tr th {\n",
              "        vertical-align: top;\n",
              "    }\n",
              "\n",
              "    .dataframe thead th {\n",
              "        text-align: right;\n",
              "    }\n",
              "</style>\n",
              "<table border=\"1\" class=\"dataframe\">\n",
              "  <thead>\n",
              "    <tr style=\"text-align: right;\">\n",
              "      <th></th>\n",
              "      <th>Intructions</th>\n",
              "      <th>Responses</th>\n",
              "    </tr>\n",
              "  </thead>\n",
              "  <tbody>\n",
              "    <tr>\n",
              "      <th>0</th>\n",
              "      <td>Who directed the movie Barbie?</td>\n",
              "      <td>The movie Barbie was directed by Greta Gerwig.</td>\n",
              "    </tr>\n",
              "    <tr>\n",
              "      <th>1</th>\n",
              "      <td>Who wrote the screenplay for the movie Barbie?</td>\n",
              "      <td>Greta Gerwig and Noah Baumbach wrote the scree...</td>\n",
              "    </tr>\n",
              "    <tr>\n",
              "      <th>2</th>\n",
              "      <td>Who stars as the title character in the movie ...</td>\n",
              "      <td>Margot Robbie stars as the title character in ...</td>\n",
              "    </tr>\n",
              "    <tr>\n",
              "      <th>3</th>\n",
              "      <td>Where was the movie Barbie primarily filmed?</td>\n",
              "      <td>The movie Barbie was primarily filmed at Warne...</td>\n",
              "    </tr>\n",
              "    <tr>\n",
              "      <th>4</th>\n",
              "      <td>When was the movie Barbie released in the Unit...</td>\n",
              "      <td>The movie Barbie was released in the United St...</td>\n",
              "    </tr>\n",
              "  </tbody>\n",
              "</table>\n",
              "</div>\n",
              "    <div class=\"colab-df-buttons\">\n",
              "\n",
              "  <div class=\"colab-df-container\">\n",
              "    <button class=\"colab-df-convert\" onclick=\"convertToInteractive('df-5c56db46-fbf7-42a7-badf-4731aad14fd9')\"\n",
              "            title=\"Convert this dataframe to an interactive table.\"\n",
              "            style=\"display:none;\">\n",
              "\n",
              "  <svg xmlns=\"http://www.w3.org/2000/svg\" height=\"24px\" viewBox=\"0 -960 960 960\">\n",
              "    <path d=\"M120-120v-720h720v720H120Zm60-500h600v-160H180v160Zm220 220h160v-160H400v160Zm0 220h160v-160H400v160ZM180-400h160v-160H180v160Zm440 0h160v-160H620v160ZM180-180h160v-160H180v160Zm440 0h160v-160H620v160Z\"/>\n",
              "  </svg>\n",
              "    </button>\n",
              "\n",
              "  <style>\n",
              "    .colab-df-container {\n",
              "      display:flex;\n",
              "      gap: 12px;\n",
              "    }\n",
              "\n",
              "    .colab-df-convert {\n",
              "      background-color: #E8F0FE;\n",
              "      border: none;\n",
              "      border-radius: 50%;\n",
              "      cursor: pointer;\n",
              "      display: none;\n",
              "      fill: #1967D2;\n",
              "      height: 32px;\n",
              "      padding: 0 0 0 0;\n",
              "      width: 32px;\n",
              "    }\n",
              "\n",
              "    .colab-df-convert:hover {\n",
              "      background-color: #E2EBFA;\n",
              "      box-shadow: 0px 1px 2px rgba(60, 64, 67, 0.3), 0px 1px 3px 1px rgba(60, 64, 67, 0.15);\n",
              "      fill: #174EA6;\n",
              "    }\n",
              "\n",
              "    .colab-df-buttons div {\n",
              "      margin-bottom: 4px;\n",
              "    }\n",
              "\n",
              "    [theme=dark] .colab-df-convert {\n",
              "      background-color: #3B4455;\n",
              "      fill: #D2E3FC;\n",
              "    }\n",
              "\n",
              "    [theme=dark] .colab-df-convert:hover {\n",
              "      background-color: #434B5C;\n",
              "      box-shadow: 0px 1px 3px 1px rgba(0, 0, 0, 0.15);\n",
              "      filter: drop-shadow(0px 1px 2px rgba(0, 0, 0, 0.3));\n",
              "      fill: #FFFFFF;\n",
              "    }\n",
              "  </style>\n",
              "\n",
              "    <script>\n",
              "      const buttonEl =\n",
              "        document.querySelector('#df-5c56db46-fbf7-42a7-badf-4731aad14fd9 button.colab-df-convert');\n",
              "      buttonEl.style.display =\n",
              "        google.colab.kernel.accessAllowed ? 'block' : 'none';\n",
              "\n",
              "      async function convertToInteractive(key) {\n",
              "        const element = document.querySelector('#df-5c56db46-fbf7-42a7-badf-4731aad14fd9');\n",
              "        const dataTable =\n",
              "          await google.colab.kernel.invokeFunction('convertToInteractive',\n",
              "                                                    [key], {});\n",
              "        if (!dataTable) return;\n",
              "\n",
              "        const docLinkHtml = 'Like what you see? Visit the ' +\n",
              "          '<a target=\"_blank\" href=https://colab.research.google.com/notebooks/data_table.ipynb>data table notebook</a>'\n",
              "          + ' to learn more about interactive tables.';\n",
              "        element.innerHTML = '';\n",
              "        dataTable['output_type'] = 'display_data';\n",
              "        await google.colab.output.renderOutput(dataTable, element);\n",
              "        const docLink = document.createElement('div');\n",
              "        docLink.innerHTML = docLinkHtml;\n",
              "        element.appendChild(docLink);\n",
              "      }\n",
              "    </script>\n",
              "  </div>\n",
              "\n",
              "\n",
              "<div id=\"df-4c04471e-8ac2-4b91-b42f-416574b3a4bd\">\n",
              "  <button class=\"colab-df-quickchart\" onclick=\"quickchart('df-4c04471e-8ac2-4b91-b42f-416574b3a4bd')\"\n",
              "            title=\"Suggest charts\"\n",
              "            style=\"display:none;\">\n",
              "\n",
              "<svg xmlns=\"http://www.w3.org/2000/svg\" height=\"24px\"viewBox=\"0 0 24 24\"\n",
              "     width=\"24px\">\n",
              "    <g>\n",
              "        <path d=\"M19 3H5c-1.1 0-2 .9-2 2v14c0 1.1.9 2 2 2h14c1.1 0 2-.9 2-2V5c0-1.1-.9-2-2-2zM9 17H7v-7h2v7zm4 0h-2V7h2v10zm4 0h-2v-4h2v4z\"/>\n",
              "    </g>\n",
              "</svg>\n",
              "  </button>\n",
              "\n",
              "<style>\n",
              "  .colab-df-quickchart {\n",
              "      --bg-color: #E8F0FE;\n",
              "      --fill-color: #1967D2;\n",
              "      --hover-bg-color: #E2EBFA;\n",
              "      --hover-fill-color: #174EA6;\n",
              "      --disabled-fill-color: #AAA;\n",
              "      --disabled-bg-color: #DDD;\n",
              "  }\n",
              "\n",
              "  [theme=dark] .colab-df-quickchart {\n",
              "      --bg-color: #3B4455;\n",
              "      --fill-color: #D2E3FC;\n",
              "      --hover-bg-color: #434B5C;\n",
              "      --hover-fill-color: #FFFFFF;\n",
              "      --disabled-bg-color: #3B4455;\n",
              "      --disabled-fill-color: #666;\n",
              "  }\n",
              "\n",
              "  .colab-df-quickchart {\n",
              "    background-color: var(--bg-color);\n",
              "    border: none;\n",
              "    border-radius: 50%;\n",
              "    cursor: pointer;\n",
              "    display: none;\n",
              "    fill: var(--fill-color);\n",
              "    height: 32px;\n",
              "    padding: 0;\n",
              "    width: 32px;\n",
              "  }\n",
              "\n",
              "  .colab-df-quickchart:hover {\n",
              "    background-color: var(--hover-bg-color);\n",
              "    box-shadow: 0 1px 2px rgba(60, 64, 67, 0.3), 0 1px 3px 1px rgba(60, 64, 67, 0.15);\n",
              "    fill: var(--button-hover-fill-color);\n",
              "  }\n",
              "\n",
              "  .colab-df-quickchart-complete:disabled,\n",
              "  .colab-df-quickchart-complete:disabled:hover {\n",
              "    background-color: var(--disabled-bg-color);\n",
              "    fill: var(--disabled-fill-color);\n",
              "    box-shadow: none;\n",
              "  }\n",
              "\n",
              "  .colab-df-spinner {\n",
              "    border: 2px solid var(--fill-color);\n",
              "    border-color: transparent;\n",
              "    border-bottom-color: var(--fill-color);\n",
              "    animation:\n",
              "      spin 1s steps(1) infinite;\n",
              "  }\n",
              "\n",
              "  @keyframes spin {\n",
              "    0% {\n",
              "      border-color: transparent;\n",
              "      border-bottom-color: var(--fill-color);\n",
              "      border-left-color: var(--fill-color);\n",
              "    }\n",
              "    20% {\n",
              "      border-color: transparent;\n",
              "      border-left-color: var(--fill-color);\n",
              "      border-top-color: var(--fill-color);\n",
              "    }\n",
              "    30% {\n",
              "      border-color: transparent;\n",
              "      border-left-color: var(--fill-color);\n",
              "      border-top-color: var(--fill-color);\n",
              "      border-right-color: var(--fill-color);\n",
              "    }\n",
              "    40% {\n",
              "      border-color: transparent;\n",
              "      border-right-color: var(--fill-color);\n",
              "      border-top-color: var(--fill-color);\n",
              "    }\n",
              "    60% {\n",
              "      border-color: transparent;\n",
              "      border-right-color: var(--fill-color);\n",
              "    }\n",
              "    80% {\n",
              "      border-color: transparent;\n",
              "      border-right-color: var(--fill-color);\n",
              "      border-bottom-color: var(--fill-color);\n",
              "    }\n",
              "    90% {\n",
              "      border-color: transparent;\n",
              "      border-bottom-color: var(--fill-color);\n",
              "    }\n",
              "  }\n",
              "</style>\n",
              "\n",
              "  <script>\n",
              "    async function quickchart(key) {\n",
              "      const quickchartButtonEl =\n",
              "        document.querySelector('#' + key + ' button');\n",
              "      quickchartButtonEl.disabled = true;  // To prevent multiple clicks.\n",
              "      quickchartButtonEl.classList.add('colab-df-spinner');\n",
              "      try {\n",
              "        const charts = await google.colab.kernel.invokeFunction(\n",
              "            'suggestCharts', [key], {});\n",
              "      } catch (error) {\n",
              "        console.error('Error during call to suggestCharts:', error);\n",
              "      }\n",
              "      quickchartButtonEl.classList.remove('colab-df-spinner');\n",
              "      quickchartButtonEl.classList.add('colab-df-quickchart-complete');\n",
              "    }\n",
              "    (() => {\n",
              "      let quickchartButtonEl =\n",
              "        document.querySelector('#df-4c04471e-8ac2-4b91-b42f-416574b3a4bd button');\n",
              "      quickchartButtonEl.style.display =\n",
              "        google.colab.kernel.accessAllowed ? 'block' : 'none';\n",
              "    })();\n",
              "  </script>\n",
              "</div>\n",
              "\n",
              "    </div>\n",
              "  </div>\n"
            ]
          },
          "metadata": {},
          "execution_count": 22
        }
      ]
    },
    {
      "cell_type": "code",
      "source": [
        "df.shape"
      ],
      "metadata": {
        "colab": {
          "base_uri": "https://localhost:8080/"
        },
        "id": "XkIDkkqydG8A",
        "outputId": "b4747c47-b182-4048-bdf4-44b5024f73a1"
      },
      "execution_count": null,
      "outputs": [
        {
          "output_type": "execute_result",
          "data": {
            "text/plain": [
              "(954, 2)"
            ]
          },
          "metadata": {},
          "execution_count": 23
        }
      ]
    },
    {
      "cell_type": "markdown",
      "source": [
        "So, yeah, life is indeed not perfect. We got 954 data, although we expected 1000. Still, it's a 95.4% success, right ? ;)"
      ],
      "metadata": {
        "id": "wNwqgH2ZdLWQ"
      }
    },
    {
      "cell_type": "markdown",
      "source": [
        "Also, fyi, I spent $.27 for this"
      ],
      "metadata": {
        "id": "zs7JdMTwlgkE"
      }
    },
    {
      "cell_type": "code",
      "source": [],
      "metadata": {
        "id": "pIg56YV4exwF"
      },
      "execution_count": null,
      "outputs": []
    }
  ]
}